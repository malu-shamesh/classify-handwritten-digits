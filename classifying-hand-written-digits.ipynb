{
 "cells": [
  {
   "cell_type": "markdown",
   "id": "b08ed133",
   "metadata": {
    "_cell_guid": "b1076dfc-b9ad-4769-8c92-a6c4dae69d19",
    "_uuid": "8f2839f25d086af736a60e9eeb907d3b93b6e0e5",
    "papermill": {
     "duration": 0.011078,
     "end_time": "2023-11-20T08:27:38.997455",
     "exception": false,
     "start_time": "2023-11-20T08:27:38.986377",
     "status": "completed"
    },
    "tags": []
   },
   "source": [
    "# Importing dataset\n",
    "\n",
    "The MNIST dataset is a popular choice for this task. It consists of 28x28 grayscale images of handwritten digits and has a training set of 60,000 examples and a test set of 10,000 examples.\n",
    "\n",
    "Here, TensorFlow is used to load the MNIST dataset."
   ]
  },
  {
   "cell_type": "code",
   "execution_count": 1,
   "id": "e7fe1b33",
   "metadata": {
    "execution": {
     "iopub.execute_input": "2023-11-20T08:27:39.018950Z",
     "iopub.status.busy": "2023-11-20T08:27:39.017964Z",
     "iopub.status.idle": "2023-11-20T08:27:58.819425Z",
     "shell.execute_reply": "2023-11-20T08:27:58.817433Z"
    },
    "papermill": {
     "duration": 19.815941,
     "end_time": "2023-11-20T08:27:58.822975",
     "exception": false,
     "start_time": "2023-11-20T08:27:39.007034",
     "status": "completed"
    },
    "tags": []
   },
   "outputs": [],
   "source": [
    "import matplotlib.pyplot as plt\n",
    "import numpy as np\n",
    "import tensorflow as tf\n",
    "import seaborn as sns\n",
    "from tensorflow.keras import datasets\n",
    "from sklearn.preprocessing import label_binarize\n",
    "from sklearn.metrics import classification_report, confusion_matrix, precision_recall_curve, average_precision_score"
   ]
  },
  {
   "cell_type": "code",
   "execution_count": 2,
   "id": "3e4e1491",
   "metadata": {
    "execution": {
     "iopub.execute_input": "2023-11-20T08:27:58.846439Z",
     "iopub.status.busy": "2023-11-20T08:27:58.845580Z",
     "iopub.status.idle": "2023-11-20T08:28:00.274851Z",
     "shell.execute_reply": "2023-11-20T08:28:00.272799Z"
    },
    "papermill": {
     "duration": 1.44604,
     "end_time": "2023-11-20T08:28:00.278383",
     "exception": false,
     "start_time": "2023-11-20T08:27:58.832343",
     "status": "completed"
    },
    "tags": []
   },
   "outputs": [
    {
     "name": "stdout",
     "output_type": "stream",
     "text": [
      "Downloading data from https://storage.googleapis.com/tensorflow/tf-keras-datasets/mnist.npz\n",
      "11490434/11490434 [==============================] - 1s 0us/step\n"
     ]
    }
   ],
   "source": [
    "# Load the MNIST dataset\n",
    "(train_images, train_labels), (test_images, test_labels) = datasets.mnist.load_data()"
   ]
  },
  {
   "cell_type": "code",
   "execution_count": 3,
   "id": "99afe6bc",
   "metadata": {
    "execution": {
     "iopub.execute_input": "2023-11-20T08:28:00.308347Z",
     "iopub.status.busy": "2023-11-20T08:28:00.307620Z",
     "iopub.status.idle": "2023-11-20T08:28:00.315491Z",
     "shell.execute_reply": "2023-11-20T08:28:00.313436Z"
    },
    "papermill": {
     "duration": 0.028436,
     "end_time": "2023-11-20T08:28:00.319917",
     "exception": false,
     "start_time": "2023-11-20T08:28:00.291481",
     "status": "completed"
    },
    "tags": []
   },
   "outputs": [],
   "source": [
    "labels = np.asarray(train_labels, dtype=np.int32)\n",
    "test_labels = np.asarray(test_labels, dtype=np.int32)"
   ]
  },
  {
   "cell_type": "code",
   "execution_count": 4,
   "id": "e6630e09",
   "metadata": {
    "execution": {
     "iopub.execute_input": "2023-11-20T08:28:00.345993Z",
     "iopub.status.busy": "2023-11-20T08:28:00.344865Z",
     "iopub.status.idle": "2023-11-20T08:28:00.759977Z",
     "shell.execute_reply": "2023-11-20T08:28:00.758254Z"
    },
    "papermill": {
     "duration": 0.431299,
     "end_time": "2023-11-20T08:28:00.763718",
     "exception": false,
     "start_time": "2023-11-20T08:28:00.332419",
     "status": "completed"
    },
    "tags": []
   },
   "outputs": [
    {
     "data": {
      "image/png": "[encoded data removed]",
      "text/plain": [
       "<Figure size 640x480 with 1 Axes>"
      ]
     },
     "metadata": {},
     "output_type": "display_data"
    }
   ],
   "source": [
    "def display(i):\n",
    "    img = test_images[i]\n",
    "    plt.title('label : {}'.format(test_labels[i]))\n",
    "    plt.imshow(img.reshape((28, 28)))\n",
    "     \n",
    "# image in TensorFlow is 28 by 28 px\n",
    "display(1)"
   ]
  },
  {
   "cell_type": "markdown",
   "id": "64a86772",
   "metadata": {
    "papermill": {
     "duration": 0.012981,
     "end_time": "2023-11-20T08:28:00.789216",
     "exception": false,
     "start_time": "2023-11-20T08:28:00.776235",
     "status": "completed"
    },
    "tags": []
   },
   "source": [
    "## Data preprocessing "
   ]
  },
  {
   "cell_type": "markdown",
   "id": "93528bed",
   "metadata": {
    "papermill": {
     "duration": 0.011474,
     "end_time": "2023-11-20T08:28:00.812263",
     "exception": false,
     "start_time": "2023-11-20T08:28:00.800789",
     "status": "completed"
    },
    "tags": []
   },
   "source": [
    "Preprocess the data to prepare it for training. Normalize the pixel values to be between 0 and 1 and flatten the 28x28 images into a 1D array of size 784."
   ]
  },
  {
   "cell_type": "code",
   "execution_count": 5,
   "id": "777c0bc3",
   "metadata": {
    "execution": {
     "iopub.execute_input": "2023-11-20T08:28:00.837362Z",
     "iopub.status.busy": "2023-11-20T08:28:00.836500Z",
     "iopub.status.idle": "2023-11-20T08:28:01.024774Z",
     "shell.execute_reply": "2023-11-20T08:28:01.023250Z"
    },
    "papermill": {
     "duration": 0.205005,
     "end_time": "2023-11-20T08:28:01.028425",
     "exception": false,
     "start_time": "2023-11-20T08:28:00.823420",
     "status": "completed"
    },
    "tags": []
   },
   "outputs": [],
   "source": [
    "train_images = train_images / 255.0\n",
    "test_images = test_images / 255.0\n",
    "\n",
    "train_images = train_images.reshape((60000, 28 * 28))\n",
    "test_images = test_images.reshape((10000, 28 * 28))"
   ]
  },
  {
   "cell_type": "markdown",
   "id": "3421f081",
   "metadata": {
    "papermill": {
     "duration": 0.01184,
     "end_time": "2023-11-20T08:28:01.054222",
     "exception": false,
     "start_time": "2023-11-20T08:28:01.042382",
     "status": "completed"
    },
    "tags": []
   },
   "source": [
    "## Building model"
   ]
  },
  {
   "cell_type": "code",
   "execution_count": 6,
   "id": "bde6670b",
   "metadata": {
    "execution": {
     "iopub.execute_input": "2023-11-20T08:28:01.079624Z",
     "iopub.status.busy": "2023-11-20T08:28:01.078858Z",
     "iopub.status.idle": "2023-11-20T08:28:01.312662Z",
     "shell.execute_reply": "2023-11-20T08:28:01.310394Z"
    },
    "papermill": {
     "duration": 0.251276,
     "end_time": "2023-11-20T08:28:01.316780",
     "exception": false,
     "start_time": "2023-11-20T08:28:01.065504",
     "status": "completed"
    },
    "tags": []
   },
   "outputs": [],
   "source": [
    "from tensorflow.keras import models, layers\n",
    "\n",
    "model = models.Sequential()\n",
    "model.add(layers.Dense(128, activation='relu', input_shape=(28 * 28,)))\n",
    "model.add(layers.Dense(10, activation='softmax'))"
   ]
  },
  {
   "cell_type": "markdown",
   "id": "88d3dca1",
   "metadata": {
    "papermill": {
     "duration": 0.01515,
     "end_time": "2023-11-20T08:28:01.349946",
     "exception": false,
     "start_time": "2023-11-20T08:28:01.334796",
     "status": "completed"
    },
    "tags": []
   },
   "source": [
    "## Compile model"
   ]
  },
  {
   "cell_type": "code",
   "execution_count": 7,
   "id": "e9b42f37",
   "metadata": {
    "execution": {
     "iopub.execute_input": "2023-11-20T08:28:01.379561Z",
     "iopub.status.busy": "2023-11-20T08:28:01.379055Z",
     "iopub.status.idle": "2023-11-20T08:28:01.404581Z",
     "shell.execute_reply": "2023-11-20T08:28:01.402507Z"
    },
    "papermill": {
     "duration": 0.04334,
     "end_time": "2023-11-20T08:28:01.407778",
     "exception": false,
     "start_time": "2023-11-20T08:28:01.364438",
     "status": "completed"
    },
    "tags": []
   },
   "outputs": [],
   "source": [
    "model.compile(optimizer='adam',\n",
    "              loss='sparse_categorical_crossentropy',\n",
    "              metrics=['accuracy'])"
   ]
  },
  {
   "cell_type": "markdown",
   "id": "d622f5a8",
   "metadata": {
    "papermill": {
     "duration": 0.013012,
     "end_time": "2023-11-20T08:28:01.434855",
     "exception": false,
     "start_time": "2023-11-20T08:28:01.421843",
     "status": "completed"
    },
    "tags": []
   },
   "source": [
    "## Training the model"
   ]
  },
  {
   "cell_type": "code",
   "execution_count": 8,
   "id": "42a301c6",
   "metadata": {
    "execution": {
     "iopub.execute_input": "2023-11-20T08:28:01.463738Z",
     "iopub.status.busy": "2023-11-20T08:28:01.462642Z",
     "iopub.status.idle": "2023-11-20T08:29:46.472360Z",
     "shell.execute_reply": "2023-11-20T08:29:46.470294Z"
    },
    "papermill": {
     "duration": 105.028067,
     "end_time": "2023-11-20T08:29:46.475550",
     "exception": false,
     "start_time": "2023-11-20T08:28:01.447483",
     "status": "completed"
    },
    "tags": []
   },
   "outputs": [
    {
     "name": "stdout",
     "output_type": "stream",
     "text": [
      "Epoch 1/25\n",
      "750/750 [==============================] - 5s 6ms/step - loss: 0.3324 - accuracy: 0.9062 - val_loss: 0.1857 - val_accuracy: 0.9493\n",
      "Epoch 2/25\n",
      "750/750 [==============================] - 4s 6ms/step - loss: 0.1517 - accuracy: 0.9569 - val_loss: 0.1350 - val_accuracy: 0.9608\n",
      "Epoch 3/25\n",
      "750/750 [==============================] - 4s 5ms/step - loss: 0.1054 - accuracy: 0.9696 - val_loss: 0.1174 - val_accuracy: 0.9663\n",
      "Epoch 4/25\n",
      "750/750 [==============================] - 4s 5ms/step - loss: 0.0802 - accuracy: 0.9763 - val_loss: 0.1084 - val_accuracy: 0.9679\n",
      "Epoch 5/25\n",
      "750/750 [==============================] - 4s 5ms/step - loss: 0.0627 - accuracy: 0.9810 - val_loss: 0.0927 - val_accuracy: 0.9727\n",
      "Epoch 6/25\n",
      "750/750 [==============================] - 4s 5ms/step - loss: 0.0505 - accuracy: 0.9851 - val_loss: 0.0845 - val_accuracy: 0.9746\n",
      "Epoch 7/25\n",
      "750/750 [==============================] - 4s 6ms/step - loss: 0.0411 - accuracy: 0.9879 - val_loss: 0.0865 - val_accuracy: 0.9742\n",
      "Epoch 8/25\n",
      "750/750 [==============================] - 4s 6ms/step - loss: 0.0338 - accuracy: 0.9904 - val_loss: 0.0874 - val_accuracy: 0.9753\n",
      "Epoch 9/25\n",
      "750/750 [==============================] - 4s 6ms/step - loss: 0.0278 - accuracy: 0.9922 - val_loss: 0.0827 - val_accuracy: 0.9759\n",
      "Epoch 10/25\n",
      "750/750 [==============================] - 4s 5ms/step - loss: 0.0223 - accuracy: 0.9938 - val_loss: 0.0810 - val_accuracy: 0.9774\n",
      "Epoch 11/25\n",
      "750/750 [==============================] - 4s 5ms/step - loss: 0.0197 - accuracy: 0.9947 - val_loss: 0.0857 - val_accuracy: 0.9768\n",
      "Epoch 12/25\n",
      "750/750 [==============================] - 4s 5ms/step - loss: 0.0151 - accuracy: 0.9960 - val_loss: 0.0847 - val_accuracy: 0.9771\n",
      "Epoch 13/25\n",
      "750/750 [==============================] - 4s 5ms/step - loss: 0.0131 - accuracy: 0.9967 - val_loss: 0.0893 - val_accuracy: 0.9765\n",
      "Epoch 14/25\n",
      "750/750 [==============================] - 4s 6ms/step - loss: 0.0109 - accuracy: 0.9973 - val_loss: 0.0958 - val_accuracy: 0.9758\n",
      "Epoch 15/25\n",
      "750/750 [==============================] - 4s 6ms/step - loss: 0.0088 - accuracy: 0.9979 - val_loss: 0.0970 - val_accuracy: 0.9749\n",
      "Epoch 16/25\n",
      "750/750 [==============================] - 4s 6ms/step - loss: 0.0084 - accuracy: 0.9981 - val_loss: 0.1017 - val_accuracy: 0.9754\n",
      "Epoch 17/25\n",
      "750/750 [==============================] - 4s 6ms/step - loss: 0.0075 - accuracy: 0.9982 - val_loss: 0.1006 - val_accuracy: 0.9762\n",
      "Epoch 18/25\n",
      "750/750 [==============================] - 4s 5ms/step - loss: 0.0066 - accuracy: 0.9982 - val_loss: 0.1047 - val_accuracy: 0.9760\n",
      "Epoch 19/25\n",
      "750/750 [==============================] - 4s 6ms/step - loss: 0.0057 - accuracy: 0.9988 - val_loss: 0.0955 - val_accuracy: 0.9781\n",
      "Epoch 20/25\n",
      "750/750 [==============================] - 4s 6ms/step - loss: 0.0028 - accuracy: 0.9997 - val_loss: 0.0969 - val_accuracy: 0.9793\n",
      "Epoch 21/25\n",
      "750/750 [==============================] - 4s 6ms/step - loss: 0.0063 - accuracy: 0.9981 - val_loss: 0.1116 - val_accuracy: 0.9761\n",
      "Epoch 22/25\n",
      "750/750 [==============================] - 4s 6ms/step - loss: 0.0048 - accuracy: 0.9988 - val_loss: 0.0992 - val_accuracy: 0.9783\n",
      "Epoch 23/25\n",
      "750/750 [==============================] - 4s 6ms/step - loss: 0.0025 - accuracy: 0.9995 - val_loss: 0.1204 - val_accuracy: 0.9748\n",
      "Epoch 24/25\n",
      "750/750 [==============================] - 4s 5ms/step - loss: 0.0026 - accuracy: 0.9997 - val_loss: 0.1161 - val_accuracy: 0.9762\n",
      "Epoch 25/25\n",
      "750/750 [==============================] - 4s 5ms/step - loss: 0.0060 - accuracy: 0.9984 - val_loss: 0.1161 - val_accuracy: 0.9778\n"
     ]
    },
    {
     "data": {
      "text/plain": [
       "<keras.src.callbacks.History at 0x7c3c5195f7f0>"
      ]
     },
     "execution_count": 8,
     "metadata": {},
     "output_type": "execute_result"
    }
   ],
   "source": [
    "model.fit(train_images, train_labels, epochs=25, batch_size=64, validation_split=0.2)"
   ]
  },
  {
   "cell_type": "markdown",
   "id": "98c03073",
   "metadata": {
    "papermill": {
     "duration": 0.188363,
     "end_time": "2023-11-20T08:29:46.849889",
     "exception": false,
     "start_time": "2023-11-20T08:29:46.661526",
     "status": "completed"
    },
    "tags": []
   },
   "source": [
    "## Evaluating model"
   ]
  },
  {
   "cell_type": "code",
   "execution_count": 9,
   "id": "201cc01f",
   "metadata": {
    "execution": {
     "iopub.execute_input": "2023-11-20T08:29:47.222024Z",
     "iopub.status.busy": "2023-11-20T08:29:47.221513Z",
     "iopub.status.idle": "2023-11-20T08:29:48.328722Z",
     "shell.execute_reply": "2023-11-20T08:29:48.326695Z"
    },
    "papermill": {
     "duration": 1.301147,
     "end_time": "2023-11-20T08:29:48.333449",
     "exception": false,
     "start_time": "2023-11-20T08:29:47.032302",
     "status": "completed"
    },
    "tags": []
   },
   "outputs": [
    {
     "name": "stdout",
     "output_type": "stream",
     "text": [
      "313/313 [==============================] - 1s 3ms/step - loss: 0.1021 - accuracy: 0.9763\n",
      "Test accuracy: 0.9763000011444092\n"
     ]
    }
   ],
   "source": [
    "test_loss, test_acc = model.evaluate(test_images, test_labels)\n",
    "print(f'Test accuracy: {test_acc}')\n"
   ]
  },
  {
   "cell_type": "markdown",
   "id": "e38365c5",
   "metadata": {
    "papermill": {
     "duration": 0.184654,
     "end_time": "2023-11-20T08:29:48.711191",
     "exception": false,
     "start_time": "2023-11-20T08:29:48.526537",
     "status": "completed"
    },
    "tags": []
   },
   "source": [
    "## Predicting in test data"
   ]
  },
  {
   "cell_type": "code",
   "execution_count": 10,
   "id": "f439d788",
   "metadata": {
    "execution": {
     "iopub.execute_input": "2023-11-20T08:29:49.077878Z",
     "iopub.status.busy": "2023-11-20T08:29:49.076996Z",
     "iopub.status.idle": "2023-11-20T08:29:49.255554Z",
     "shell.execute_reply": "2023-11-20T08:29:49.253756Z"
    },
    "papermill": {
     "duration": 0.365277,
     "end_time": "2023-11-20T08:29:49.258832",
     "exception": false,
     "start_time": "2023-11-20T08:29:48.893555",
     "status": "completed"
    },
    "tags": []
   },
   "outputs": [
    {
     "name": "stdout",
     "output_type": "stream",
     "text": [
      "1/1 [==============================] - 0s 108ms/step\n",
      "[[9.7934388e-13 1.8890736e-13 1.5634841e-11 3.7656155e-06 2.0443288e-21\n",
      "  2.7494456e-13 3.5626622e-22 9.9999619e-01 6.2239124e-13 6.3455796e-09]\n",
      " [1.5749749e-14 1.7162657e-09 1.0000000e+00 1.7546722e-16 1.0385526e-27\n",
      "  9.0656924e-17 1.3048536e-14 3.2504523e-24 2.9512424e-14 3.8808291e-22]\n",
      " [7.6198731e-10 9.9996877e-01 1.5082123e-06 5.4326477e-10 4.1089381e-09\n",
      "  6.2727329e-10 2.0179423e-09 6.6761886e-06 2.3063503e-05 4.2490044e-12]\n",
      " [1.0000000e+00 1.1080980e-13 5.1660380e-13 2.2828478e-16 4.9204752e-18\n",
      "  3.3009335e-13 6.3576189e-10 1.5700384e-10 3.4731327e-21 2.0104912e-12]\n",
      " [8.9673304e-12 1.8132246e-14 1.2028137e-12 7.7133574e-19 9.9999452e-01\n",
      "  2.9668373e-14 5.1999870e-13 1.5597360e-09 1.2359282e-12 5.4833199e-06]]\n"
     ]
    }
   ],
   "source": [
    "predictions = model.predict(test_images[:5])\n",
    "print(predictions)"
   ]
  },
  {
   "cell_type": "code",
   "execution_count": 11,
   "id": "019527d2",
   "metadata": {
    "execution": {
     "iopub.execute_input": "2023-11-20T08:29:49.640980Z",
     "iopub.status.busy": "2023-11-20T08:29:49.640486Z",
     "iopub.status.idle": "2023-11-20T08:29:49.649059Z",
     "shell.execute_reply": "2023-11-20T08:29:49.646715Z"
    },
    "papermill": {
     "duration": 0.204331,
     "end_time": "2023-11-20T08:29:49.652090",
     "exception": false,
     "start_time": "2023-11-20T08:29:49.447759",
     "status": "completed"
    },
    "tags": []
   },
   "outputs": [
    {
     "name": "stdout",
     "output_type": "stream",
     "text": [
      "[7 2 1 0 4]\n"
     ]
    }
   ],
   "source": [
    "predicted_classes = np.argmax(predictions, axis=1)\n",
    "print(predicted_classes)"
   ]
  },
  {
   "cell_type": "markdown",
   "id": "c6f09219",
   "metadata": {
    "papermill": {
     "duration": 0.183837,
     "end_time": "2023-11-20T08:29:50.026645",
     "exception": false,
     "start_time": "2023-11-20T08:29:49.842808",
     "status": "completed"
    },
    "tags": []
   },
   "source": [
    "## Fine-tuning"
   ]
  },
  {
   "cell_type": "code",
   "execution_count": 12,
   "id": "9f589d1e",
   "metadata": {
    "execution": {
     "iopub.execute_input": "2023-11-20T08:29:50.427394Z",
     "iopub.status.busy": "2023-11-20T08:29:50.426939Z",
     "iopub.status.idle": "2023-11-20T08:45:19.466942Z",
     "shell.execute_reply": "2023-11-20T08:45:19.465258Z"
    },
    "papermill": {
     "duration": 929.252545,
     "end_time": "2023-11-20T08:45:19.470848",
     "exception": false,
     "start_time": "2023-11-20T08:29:50.218303",
     "status": "completed"
    },
    "tags": []
   },
   "outputs": [
    {
     "name": "stdout",
     "output_type": "stream",
     "text": [
      "Epoch 1/25\n",
      "750/750 [==============================] - 38s 49ms/step - loss: 0.2385 - accuracy: 0.9258 - val_loss: 0.0708 - val_accuracy: 0.9793\n",
      "Epoch 2/25\n",
      "750/750 [==============================] - 36s 48ms/step - loss: 0.0794 - accuracy: 0.9758 - val_loss: 0.0598 - val_accuracy: 0.9810\n",
      "Epoch 3/25\n",
      "750/750 [==============================] - 35s 47ms/step - loss: 0.0532 - accuracy: 0.9836 - val_loss: 0.0435 - val_accuracy: 0.9883\n",
      "Epoch 4/25\n",
      "750/750 [==============================] - 36s 48ms/step - loss: 0.0391 - accuracy: 0.9878 - val_loss: 0.0491 - val_accuracy: 0.9857\n",
      "Epoch 5/25\n",
      "750/750 [==============================] - 36s 48ms/step - loss: 0.0316 - accuracy: 0.9901 - val_loss: 0.0448 - val_accuracy: 0.9883\n",
      "Epoch 6/25\n",
      "750/750 [==============================] - 36s 47ms/step - loss: 0.0258 - accuracy: 0.9920 - val_loss: 0.0509 - val_accuracy: 0.9872\n",
      "Epoch 7/25\n",
      "750/750 [==============================] - 36s 49ms/step - loss: 0.0214 - accuracy: 0.9934 - val_loss: 0.0467 - val_accuracy: 0.9887\n",
      "Epoch 8/25\n",
      "750/750 [==============================] - 37s 49ms/step - loss: 0.0205 - accuracy: 0.9936 - val_loss: 0.0468 - val_accuracy: 0.9869\n",
      "Epoch 9/25\n",
      "750/750 [==============================] - 37s 49ms/step - loss: 0.0148 - accuracy: 0.9952 - val_loss: 0.0442 - val_accuracy: 0.9887\n",
      "Epoch 10/25\n",
      "750/750 [==============================] - 36s 48ms/step - loss: 0.0142 - accuracy: 0.9950 - val_loss: 0.0458 - val_accuracy: 0.9889\n",
      "Epoch 11/25\n",
      "750/750 [==============================] - 35s 47ms/step - loss: 0.0126 - accuracy: 0.9959 - val_loss: 0.0508 - val_accuracy: 0.9883\n",
      "Epoch 12/25\n",
      "750/750 [==============================] - 36s 49ms/step - loss: 0.0113 - accuracy: 0.9961 - val_loss: 0.0503 - val_accuracy: 0.9883\n",
      "Epoch 13/25\n",
      "750/750 [==============================] - 36s 47ms/step - loss: 0.0106 - accuracy: 0.9962 - val_loss: 0.0599 - val_accuracy: 0.9877\n",
      "Epoch 14/25\n",
      "750/750 [==============================] - 35s 46ms/step - loss: 0.0085 - accuracy: 0.9975 - val_loss: 0.0618 - val_accuracy: 0.9877\n",
      "Epoch 15/25\n",
      "750/750 [==============================] - 35s 47ms/step - loss: 0.0091 - accuracy: 0.9971 - val_loss: 0.0698 - val_accuracy: 0.9873\n",
      "Epoch 16/25\n",
      "750/750 [==============================] - 36s 48ms/step - loss: 0.0095 - accuracy: 0.9968 - val_loss: 0.0557 - val_accuracy: 0.9898\n",
      "Epoch 17/25\n",
      "750/750 [==============================] - 36s 47ms/step - loss: 0.0075 - accuracy: 0.9976 - val_loss: 0.0605 - val_accuracy: 0.9875\n",
      "Epoch 18/25\n",
      "750/750 [==============================] - 38s 51ms/step - loss: 0.0089 - accuracy: 0.9970 - val_loss: 0.0558 - val_accuracy: 0.9894\n",
      "Epoch 19/25\n",
      "750/750 [==============================] - 38s 50ms/step - loss: 0.0079 - accuracy: 0.9973 - val_loss: 0.0607 - val_accuracy: 0.9873\n",
      "Epoch 20/25\n",
      "750/750 [==============================] - 36s 48ms/step - loss: 0.0081 - accuracy: 0.9973 - val_loss: 0.0634 - val_accuracy: 0.9873\n",
      "Epoch 21/25\n",
      "750/750 [==============================] - 36s 48ms/step - loss: 0.0061 - accuracy: 0.9980 - val_loss: 0.0616 - val_accuracy: 0.9894\n",
      "Epoch 22/25\n",
      "750/750 [==============================] - 35s 47ms/step - loss: 0.0062 - accuracy: 0.9980 - val_loss: 0.0647 - val_accuracy: 0.9888\n",
      "Epoch 23/25\n",
      "750/750 [==============================] - 36s 49ms/step - loss: 0.0063 - accuracy: 0.9979 - val_loss: 0.0658 - val_accuracy: 0.9889\n",
      "Epoch 24/25\n",
      "750/750 [==============================] - 37s 49ms/step - loss: 0.0054 - accuracy: 0.9984 - val_loss: 0.0678 - val_accuracy: 0.9899\n",
      "Epoch 25/25\n",
      "750/750 [==============================] - 36s 48ms/step - loss: 0.0062 - accuracy: 0.9984 - val_loss: 0.0652 - val_accuracy: 0.9883\n",
      "313/313 [==============================] - 3s 10ms/step - loss: 0.0591 - accuracy: 0.9891\n",
      "Fine-Tuned Model Test Accuracy: 0.9890999794006348\n"
     ]
    }
   ],
   "source": [
    "fine_tuned_model = models.Sequential([\n",
    "    layers.Reshape((28, 28, 1), input_shape=(784,)),\n",
    "    layers.Conv2D(64, (3, 3), activation='relu'),\n",
    "    layers.MaxPooling2D((2, 2)),\n",
    "    layers.Flatten(),\n",
    "    layers.Dense(256, activation='relu'),\n",
    "    layers.Dropout(0.3),\n",
    "    layers.Dense(128, activation='relu'),\n",
    "    layers.Dropout(0.3),\n",
    "    layers.Dense(10, activation='softmax')\n",
    "])\n",
    "\n",
    "# Compile the fine-tuned model\n",
    "fine_tuned_model.compile(optimizer='adam',\n",
    "                         loss='sparse_categorical_crossentropy',\n",
    "                         metrics=['accuracy'])\n",
    "\n",
    "# Fine-tune the model\n",
    "fine_tuned_model.fit(train_images, train_labels, epochs=25, batch_size=64, validation_split=0.2)\n",
    "\n",
    "# Evaluate the fine-tuned model\n",
    "fine_tuned_test_loss, fine_tuned_test_acc = fine_tuned_model.evaluate(test_images, test_labels)\n",
    "print(f'Fine-Tuned Model Test Accuracy: {fine_tuned_test_acc}')"
   ]
  },
  {
   "cell_type": "markdown",
   "id": "155a08da",
   "metadata": {
    "papermill": {
     "duration": 1.34539,
     "end_time": "2023-11-20T08:45:22.088325",
     "exception": false,
     "start_time": "2023-11-20T08:45:20.742935",
     "status": "completed"
    },
    "tags": []
   },
   "source": [
    "## Classification report"
   ]
  },
  {
   "cell_type": "code",
   "execution_count": 13,
   "id": "bfe570eb",
   "metadata": {
    "execution": {
     "iopub.execute_input": "2023-11-20T08:45:24.630987Z",
     "iopub.status.busy": "2023-11-20T08:45:24.630237Z",
     "iopub.status.idle": "2023-11-20T08:45:25.658598Z",
     "shell.execute_reply": "2023-11-20T08:45:25.657124Z"
    },
    "papermill": {
     "duration": 2.342835,
     "end_time": "2023-11-20T08:45:25.661307",
     "exception": false,
     "start_time": "2023-11-20T08:45:23.318472",
     "status": "completed"
    },
    "tags": []
   },
   "outputs": [
    {
     "name": "stdout",
     "output_type": "stream",
     "text": [
      "313/313 [==============================] - 1s 2ms/step\n",
      "Base Model Classification Report:\n",
      "               precision    recall  f1-score   support\n",
      "\n",
      "           0       0.99      0.99      0.99       980\n",
      "           1       0.99      0.99      0.99      1135\n",
      "           2       0.98      0.98      0.98      1032\n",
      "           3       0.97      0.97      0.97      1010\n",
      "           4       0.99      0.97      0.98       982\n",
      "           5       0.97      0.97      0.97       892\n",
      "           6       0.98      0.99      0.98       958\n",
      "           7       0.97      0.98      0.97      1028\n",
      "           8       0.98      0.96      0.97       974\n",
      "           9       0.96      0.97      0.97      1009\n",
      "\n",
      "    accuracy                           0.98     10000\n",
      "   macro avg       0.98      0.98      0.98     10000\n",
      "weighted avg       0.98      0.98      0.98     10000\n",
      "\n"
     ]
    }
   ],
   "source": [
    "predictions = model.predict(test_images)\n",
    "predicted_classes = np.argmax(predictions, axis=1)\n",
    "\n",
    "report = classification_report(test_labels, predicted_classes)\n",
    "print(\"Base Model Classification Report:\\n\", report)"
   ]
  },
  {
   "cell_type": "code",
   "execution_count": 14,
   "id": "2316afa8",
   "metadata": {
    "execution": {
     "iopub.execute_input": "2023-11-20T08:45:28.171237Z",
     "iopub.status.busy": "2023-11-20T08:45:28.170599Z",
     "iopub.status.idle": "2023-11-20T08:45:31.172241Z",
     "shell.execute_reply": "2023-11-20T08:45:31.170649Z"
    },
    "papermill": {
     "duration": 4.25892,
     "end_time": "2023-11-20T08:45:31.175689",
     "exception": false,
     "start_time": "2023-11-20T08:45:26.916769",
     "status": "completed"
    },
    "tags": []
   },
   "outputs": [
    {
     "name": "stdout",
     "output_type": "stream",
     "text": [
      "313/313 [==============================] - 3s 8ms/step\n",
      "Fine-Tuned Model Classification Report:\n",
      "               precision    recall  f1-score   support\n",
      "\n",
      "           0       0.99      1.00      0.99       980\n",
      "           1       1.00      0.99      1.00      1135\n",
      "           2       0.99      0.99      0.99      1032\n",
      "           3       0.99      0.99      0.99      1010\n",
      "           4       0.99      0.99      0.99       982\n",
      "           5       0.98      0.99      0.98       892\n",
      "           6       0.99      0.99      0.99       958\n",
      "           7       0.98      0.99      0.99      1028\n",
      "           8       0.99      0.98      0.99       974\n",
      "           9       0.99      0.98      0.98      1009\n",
      "\n",
      "    accuracy                           0.99     10000\n",
      "   macro avg       0.99      0.99      0.99     10000\n",
      "weighted avg       0.99      0.99      0.99     10000\n",
      "\n"
     ]
    }
   ],
   "source": [
    "fine_tuned_predictions = fine_tuned_model.predict(test_images)\n",
    "fine_tuned_predicted_classes = np.argmax(fine_tuned_predictions, axis=1)\n",
    "\n",
    "fine_tuned_report = classification_report(test_labels, fine_tuned_predicted_classes)\n",
    "print(\"Fine-Tuned Model Classification Report:\\n\", fine_tuned_report)"
   ]
  },
  {
   "cell_type": "markdown",
   "id": "5e49adc8",
   "metadata": {
    "papermill": {
     "duration": 1.237134,
     "end_time": "2023-11-20T08:45:33.789014",
     "exception": false,
     "start_time": "2023-11-20T08:45:32.551880",
     "status": "completed"
    },
    "tags": []
   },
   "source": [
    "## Base Model Classification Report:\n",
    "Accuracy: 98%\n",
    "Precision: High precision for all classes, indicating a low false-positive rate.\n",
    "Recall: High recall for all classes, indicating a low false-negative rate.\n",
    "F1-Score: High F1-score for all classes, considering both precision and recall.\n",
    "\n",
    "## Fine-Tuned Model Classification Report:\n",
    "Accuracy: 99% (slightly improved compared to the base model).\n",
    "Precision: Maintains high precision for all classes.\n",
    "Recall: High recall for all classes.\n",
    "F1-Score: High F1-score for all classes.\n",
    "\n",
    "## Analysis:\n",
    "The fine-tuned model shows a slight improvement in accuracy compared to the base model.\n",
    "Both models exhibit high precision, recall, and F1-score for all classes, indicating strong performance.\n",
    "Class 8 has a slightly lower recall in the fine-tuned model, suggesting that it might be slightly more challenging for the model to correctly classify instances of this class.\n",
    "\n",
    "## Conclusion:\n",
    "The fine-tuned model appears to perform slightly better than the base model, with a small increase in accuracy.\n",
    "The high precision, recall, and F1-score for all classes suggest that both models are effective in classifying digits on the MNIST dataset."
   ]
  },
  {
   "cell_type": "markdown",
   "id": "02ccdd76",
   "metadata": {
    "papermill": {
     "duration": 1.271739,
     "end_time": "2023-11-20T08:45:36.422332",
     "exception": false,
     "start_time": "2023-11-20T08:45:35.150593",
     "status": "completed"
    },
    "tags": []
   },
   "source": [
    "## Confusion matrix"
   ]
  },
  {
   "cell_type": "markdown",
   "id": "4fbdca72",
   "metadata": {
    "papermill": {
     "duration": 1.273923,
     "end_time": "2023-11-20T08:45:39.049587",
     "exception": false,
     "start_time": "2023-11-20T08:45:37.775664",
     "status": "completed"
    },
    "tags": []
   },
   "source": [
    "A confusion matrix is a great way to visualize the performance of a classification model"
   ]
  },
  {
   "cell_type": "code",
   "execution_count": 15,
   "id": "1653d886",
   "metadata": {
    "execution": {
     "iopub.execute_input": "2023-11-20T08:45:41.649512Z",
     "iopub.status.busy": "2023-11-20T08:45:41.649013Z",
     "iopub.status.idle": "2023-11-20T08:45:43.010128Z",
     "shell.execute_reply": "2023-11-20T08:45:43.008470Z"
    },
    "papermill": {
     "duration": 2.608506,
     "end_time": "2023-11-20T08:45:43.013430",
     "exception": false,
     "start_time": "2023-11-20T08:45:40.404924",
     "status": "completed"
    },
    "tags": []
   },
   "outputs": [
    {
     "name": "stdout",
     "output_type": "stream",
     "text": [
      "Confusion matrix for base model:\n",
      "\n"
     ]
    },
    {
     "data": {
      "image/png": "[encoded data removed]",
      "text/plain": [
       "<Figure size 1000x800 with 2 Axes>"
      ]
     },
     "metadata": {},
     "output_type": "display_data"
    },
    {
     "name": "stdout",
     "output_type": "stream",
     "text": [
      "Confusion matrix for fine-tuned model:\n",
      "\n"
     ]
    },
    {
     "data": {
      "image/png": "[encoded data removed]",
      "text/plain": [
       "<Figure size 1000x800 with 2 Axes>"
      ]
     },
     "metadata": {},
     "output_type": "display_data"
    }
   ],
   "source": [
    "# Function to plot confusion matrix\n",
    "def plot_confusion_matrix(y_true, y_pred, classes):\n",
    "    cm = confusion_matrix(y_true, y_pred)\n",
    "    plt.figure(figsize=(10, 8))\n",
    "    sns.heatmap(cm, annot=True, fmt='d', cmap='Blues', xticklabels=classes, yticklabels=classes)\n",
    "    plt.title('Confusion Matrix')\n",
    "    plt.xlabel('Predicted')\n",
    "    plt.ylabel('True')\n",
    "    plt.show()\n",
    "\n",
    "# For the base model\n",
    "print(\"Confusion matrix for base model:\\n\")\n",
    "plot_confusion_matrix(test_labels, predicted_classes, classes=range(10))\n",
    "\n",
    "# For the fine-tuned model\n",
    "print(\"Confusion matrix for fine-tuned model:\\n\")\n",
    "plot_confusion_matrix(test_labels, fine_tuned_predicted_classes, classes=range(10))\n"
   ]
  },
  {
   "cell_type": "markdown",
   "id": "8d733ac9",
   "metadata": {
    "papermill": {
     "duration": 1.24547,
     "end_time": "2023-11-20T08:45:45.586712",
     "exception": false,
     "start_time": "2023-11-20T08:45:44.341242",
     "status": "completed"
    },
    "tags": []
   },
   "source": [
    "## Visualizing Misclassifications"
   ]
  },
  {
   "cell_type": "markdown",
   "id": "6c3f64ef",
   "metadata": {
    "papermill": {
     "duration": 1.232038,
     "end_time": "2023-11-20T08:45:48.125373",
     "exception": false,
     "start_time": "2023-11-20T08:45:46.893335",
     "status": "completed"
    },
    "tags": []
   },
   "source": [
    "Visualize misclassifications to understand where the model is making errors"
   ]
  },
  {
   "cell_type": "code",
   "execution_count": 16,
   "id": "7a618c78",
   "metadata": {
    "execution": {
     "iopub.execute_input": "2023-11-20T08:45:50.806985Z",
     "iopub.status.busy": "2023-11-20T08:45:50.805847Z",
     "iopub.status.idle": "2023-11-20T08:45:53.194012Z",
     "shell.execute_reply": "2023-11-20T08:45:53.192751Z"
    },
    "papermill": {
     "duration": 3.752154,
     "end_time": "2023-11-20T08:45:53.196834",
     "exception": false,
     "start_time": "2023-11-20T08:45:49.444680",
     "status": "completed"
    },
    "tags": []
   },
   "outputs": [
    {
     "data": {
      "image/png": "[encoded data removed]",
      "text/plain": [
       "<Figure size 1500x600 with 10 Axes>"
      ]
     },
     "metadata": {},
     "output_type": "display_data"
    },
    {
     "data": {
      "image/png": "[encoded data removed]",
      "text/plain": [
       "<Figure size 1500x600 with 10 Axes>"
      ]
     },
     "metadata": {},
     "output_type": "display_data"
    }
   ],
   "source": [
    "# Function to plot misclassifications\n",
    "def plot_misclassifications(model, test_images, test_labels, predicted_classes, num_samples=10):\n",
    "    misclassifications = np.where(test_labels != predicted_classes)[0]\n",
    "    random_samples = np.random.choice(misclassifications, size=num_samples, replace=False)\n",
    "\n",
    "    plt.figure(figsize=(15, 6))\n",
    "    for i, idx in enumerate(random_samples, 1):\n",
    "        plt.subplot(2, 5, i)\n",
    "        plt.imshow(test_images[idx].reshape(28, 28), cmap='gray')\n",
    "        plt.title(f'True: {test_labels[idx]}, Predicted: {predicted_classes[idx]}')\n",
    "        plt.axis('off')\n",
    "    \n",
    "    plt.show()\n",
    "\n",
    "# For the base model\n",
    "plot_misclassifications(model, test_images, test_labels, predicted_classes)\n",
    "\n",
    "# For the fine-tuned model\n",
    "plot_misclassifications(fine_tuned_model, test_images, test_labels, fine_tuned_predicted_classes)\n"
   ]
  }
 ],
 "metadata": {
  "kaggle": {
   "accelerator": "none",
   "dataSources": [],
   "dockerImageVersionId": 30579,
   "isGpuEnabled": false,
   "isInternetEnabled": true,
   "language": "python",
   "sourceType": "notebook"
  },
  "kernelspec": {
   "display_name": "Python 3",
   "language": "python",
   "name": "python3"
  },
  "language_info": {
   "codemirror_mode": {
    "name": "ipython",
    "version": 3
   },
   "file_extension": ".py",
   "mimetype": "text/x-python",
   "name": "python",
   "nbconvert_exporter": "python",
   "pygments_lexer": "ipython3",
   "version": "3.10.12"
  },
  "papermill": {
   "default_parameters": {},
   "duration": 1103.265895,
   "end_time": "2023-11-20T08:45:56.985834",
   "environment_variables": {},
   "exception": null,
   "input_path": "__notebook__.ipynb",
   "output_path": "__notebook__.ipynb",
   "parameters": {},
   "start_time": "2023-11-20T08:27:33.719939",
   "version": "2.4.0"
  }
 },
 "nbformat": 4,
 "nbformat_minor": 5
}
