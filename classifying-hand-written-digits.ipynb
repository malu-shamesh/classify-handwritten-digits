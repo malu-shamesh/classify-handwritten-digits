{
 "cells": [
  {
   "cell_type": "markdown",
   "id": "e4365f9a",
   "metadata": {
    "_cell_guid": "b1076dfc-b9ad-4769-8c92-a6c4dae69d19",
    "_uuid": "8f2839f25d086af736a60e9eeb907d3b93b6e0e5",
    "papermill": {
     "duration": 0.008356,
     "end_time": "2023-11-20T06:15:20.376509",
     "exception": false,
     "start_time": "2023-11-20T06:15:20.368153",
     "status": "completed"
    },
    "tags": []
   },
   "source": [
    "# Importing dataset\n",
    "\n",
    "The MNIST dataset is a popular choice for this task. It consists of 28x28 grayscale images of handwritten digits and has a training set of 60,000 examples and a test set of 10,000 examples.\n",
    "\n",
    "Here, TensorFlow is used to load the MNIST dataset."
   ]
  },
  {
   "cell_type": "code",
   "execution_count": 1,
   "id": "4486f358",
   "metadata": {
    "execution": {
     "iopub.execute_input": "2023-11-20T06:15:20.395151Z",
     "iopub.status.busy": "2023-11-20T06:15:20.394313Z",
     "iopub.status.idle": "2023-11-20T06:15:35.874763Z",
     "shell.execute_reply": "2023-11-20T06:15:35.873606Z"
    },
    "papermill": {
     "duration": 15.492819,
     "end_time": "2023-11-20T06:15:35.877634",
     "exception": false,
     "start_time": "2023-11-20T06:15:20.384815",
     "status": "completed"
    },
    "tags": []
   },
   "outputs": [],
   "source": [
    "import matplotlib.pyplot as plt\n",
    "import numpy as np\n",
    "import tensorflow as tf\n",
    "from tensorflow.keras import datasets\n",
    "from sklearn.metrics import classification_report"
   ]
  },
  {
   "cell_type": "code",
   "execution_count": 2,
   "id": "10d9923f",
   "metadata": {
    "execution": {
     "iopub.execute_input": "2023-11-20T06:15:35.895410Z",
     "iopub.status.busy": "2023-11-20T06:15:35.894669Z",
     "iopub.status.idle": "2023-11-20T06:15:38.238792Z",
     "shell.execute_reply": "2023-11-20T06:15:38.237580Z"
    },
    "papermill": {
     "duration": 2.356298,
     "end_time": "2023-11-20T06:15:38.242038",
     "exception": false,
     "start_time": "2023-11-20T06:15:35.885740",
     "status": "completed"
    },
    "tags": []
   },
   "outputs": [
    {
     "name": "stdout",
     "output_type": "stream",
     "text": [
      "Downloading data from https://storage.googleapis.com/tensorflow/tf-keras-datasets/mnist.npz\n",
      "11490434/11490434 [==============================] - 1s 0us/step\n"
     ]
    }
   ],
   "source": [
    "# Load the MNIST dataset\n",
    "(train_images, train_labels), (test_images, test_labels) = datasets.mnist.load_data()"
   ]
  },
  {
   "cell_type": "code",
   "execution_count": 3,
   "id": "c51befeb",
   "metadata": {
    "execution": {
     "iopub.execute_input": "2023-11-20T06:15:38.263592Z",
     "iopub.status.busy": "2023-11-20T06:15:38.263165Z",
     "iopub.status.idle": "2023-11-20T06:15:38.268694Z",
     "shell.execute_reply": "2023-11-20T06:15:38.267833Z"
    },
    "papermill": {
     "duration": 0.018665,
     "end_time": "2023-11-20T06:15:38.270932",
     "exception": false,
     "start_time": "2023-11-20T06:15:38.252267",
     "status": "completed"
    },
    "tags": []
   },
   "outputs": [],
   "source": [
    "labels = np.asarray(train_labels, dtype=np.int32)\n",
    "test_labels = np.asarray(test_labels, dtype=np.int32)"
   ]
  },
  {
   "cell_type": "code",
   "execution_count": 4,
   "id": "e6240c0e",
   "metadata": {
    "execution": {
     "iopub.execute_input": "2023-11-20T06:15:38.292185Z",
     "iopub.status.busy": "2023-11-20T06:15:38.291557Z",
     "iopub.status.idle": "2023-11-20T06:15:38.647160Z",
     "shell.execute_reply": "2023-11-20T06:15:38.646232Z"
    },
    "papermill": {
     "duration": 0.368815,
     "end_time": "2023-11-20T06:15:38.649316",
     "exception": false,
     "start_time": "2023-11-20T06:15:38.280501",
     "status": "completed"
    },
    "tags": []
   },
   "outputs": [
    {
     "data": {
      "image/png": "[encoded data removed]",
      "text/plain": [
       "<Figure size 640x480 with 1 Axes>"
      ]
     },
     "metadata": {},
     "output_type": "display_data"
    }
   ],
   "source": [
    "def display(i):\n",
    "    img = test_images[i]\n",
    "    plt.title('label : {}'.format(test_labels[i]))\n",
    "    plt.imshow(img.reshape((28, 28)))\n",
    "     \n",
    "# image in TensorFlow is 28 by 28 px\n",
    "display(1)"
   ]
  },
  {
   "cell_type": "markdown",
   "id": "3dc76ef2",
   "metadata": {
    "papermill": {
     "duration": 0.009613,
     "end_time": "2023-11-20T06:15:38.668749",
     "exception": false,
     "start_time": "2023-11-20T06:15:38.659136",
     "status": "completed"
    },
    "tags": []
   },
   "source": [
    "## Data preprocessing "
   ]
  },
  {
   "cell_type": "markdown",
   "id": "a40f02f8",
   "metadata": {
    "papermill": {
     "duration": 0.009947,
     "end_time": "2023-11-20T06:15:38.689013",
     "exception": false,
     "start_time": "2023-11-20T06:15:38.679066",
     "status": "completed"
    },
    "tags": []
   },
   "source": [
    "Preprocess the data to prepare it for training. Normalize the pixel values to be between 0 and 1 and flatten the 28x28 images into a 1D array of size 784."
   ]
  },
  {
   "cell_type": "code",
   "execution_count": 5,
   "id": "ffaddf15",
   "metadata": {
    "execution": {
     "iopub.execute_input": "2023-11-20T06:15:38.710823Z",
     "iopub.status.busy": "2023-11-20T06:15:38.710336Z",
     "iopub.status.idle": "2023-11-20T06:15:38.921714Z",
     "shell.execute_reply": "2023-11-20T06:15:38.920421Z"
    },
    "papermill": {
     "duration": 0.225649,
     "end_time": "2023-11-20T06:15:38.924493",
     "exception": false,
     "start_time": "2023-11-20T06:15:38.698844",
     "status": "completed"
    },
    "tags": []
   },
   "outputs": [],
   "source": [
    "train_images = train_images / 255.0\n",
    "test_images = test_images / 255.0\n",
    "\n",
    "train_images = train_images.reshape((60000, 28 * 28))\n",
    "test_images = test_images.reshape((10000, 28 * 28))"
   ]
  },
  {
   "cell_type": "markdown",
   "id": "2436b17b",
   "metadata": {
    "papermill": {
     "duration": 0.00969,
     "end_time": "2023-11-20T06:15:38.944307",
     "exception": false,
     "start_time": "2023-11-20T06:15:38.934617",
     "status": "completed"
    },
    "tags": []
   },
   "source": [
    "## Building model"
   ]
  },
  {
   "cell_type": "code",
   "execution_count": 6,
   "id": "313ec43e",
   "metadata": {
    "execution": {
     "iopub.execute_input": "2023-11-20T06:15:38.967543Z",
     "iopub.status.busy": "2023-11-20T06:15:38.966311Z",
     "iopub.status.idle": "2023-11-20T06:15:39.347730Z",
     "shell.execute_reply": "2023-11-20T06:15:39.346441Z"
    },
    "papermill": {
     "duration": 0.396717,
     "end_time": "2023-11-20T06:15:39.351012",
     "exception": false,
     "start_time": "2023-11-20T06:15:38.954295",
     "status": "completed"
    },
    "tags": []
   },
   "outputs": [],
   "source": [
    "from tensorflow.keras import models, layers\n",
    "\n",
    "model = models.Sequential()\n",
    "model.add(layers.Dense(128, activation='relu', input_shape=(28 * 28,)))\n",
    "model.add(layers.Dense(10, activation='softmax'))"
   ]
  },
  {
   "cell_type": "markdown",
   "id": "6af790a2",
   "metadata": {
    "papermill": {
     "duration": 0.01018,
     "end_time": "2023-11-20T06:15:39.371310",
     "exception": false,
     "start_time": "2023-11-20T06:15:39.361130",
     "status": "completed"
    },
    "tags": []
   },
   "source": [
    "## Compile model"
   ]
  },
  {
   "cell_type": "code",
   "execution_count": 7,
   "id": "4cdab408",
   "metadata": {
    "execution": {
     "iopub.execute_input": "2023-11-20T06:15:39.394245Z",
     "iopub.status.busy": "2023-11-20T06:15:39.393482Z",
     "iopub.status.idle": "2023-11-20T06:15:39.411560Z",
     "shell.execute_reply": "2023-11-20T06:15:39.410754Z"
    },
    "papermill": {
     "duration": 0.032385,
     "end_time": "2023-11-20T06:15:39.414021",
     "exception": false,
     "start_time": "2023-11-20T06:15:39.381636",
     "status": "completed"
    },
    "tags": []
   },
   "outputs": [],
   "source": [
    "model.compile(optimizer='adam',\n",
    "              loss='sparse_categorical_crossentropy',\n",
    "              metrics=['accuracy'])"
   ]
  },
  {
   "cell_type": "markdown",
   "id": "6b84e9df",
   "metadata": {
    "papermill": {
     "duration": 0.009826,
     "end_time": "2023-11-20T06:15:39.434017",
     "exception": false,
     "start_time": "2023-11-20T06:15:39.424191",
     "status": "completed"
    },
    "tags": []
   },
   "source": [
    "## Training the model"
   ]
  },
  {
   "cell_type": "code",
   "execution_count": 8,
   "id": "1d28c5fb",
   "metadata": {
    "execution": {
     "iopub.execute_input": "2023-11-20T06:15:39.456170Z",
     "iopub.status.busy": "2023-11-20T06:15:39.455739Z",
     "iopub.status.idle": "2023-11-20T06:16:52.223903Z",
     "shell.execute_reply": "2023-11-20T06:16:52.222758Z"
    },
    "papermill": {
     "duration": 72.782385,
     "end_time": "2023-11-20T06:16:52.226417",
     "exception": false,
     "start_time": "2023-11-20T06:15:39.444032",
     "status": "completed"
    },
    "tags": []
   },
   "outputs": [
    {
     "name": "stdout",
     "output_type": "stream",
     "text": [
      "Epoch 1/25\n",
      "750/750 [==============================] - 4s 4ms/step - loss: 0.3383 - accuracy: 0.9039 - val_loss: 0.1879 - val_accuracy: 0.9463\n",
      "Epoch 2/25\n",
      "750/750 [==============================] - 3s 4ms/step - loss: 0.1556 - accuracy: 0.9555 - val_loss: 0.1435 - val_accuracy: 0.9572\n",
      "Epoch 3/25\n",
      "750/750 [==============================] - 3s 3ms/step - loss: 0.1089 - accuracy: 0.9680 - val_loss: 0.1138 - val_accuracy: 0.9666\n",
      "Epoch 4/25\n",
      "750/750 [==============================] - 3s 4ms/step - loss: 0.0820 - accuracy: 0.9758 - val_loss: 0.1043 - val_accuracy: 0.9692\n",
      "Epoch 5/25\n",
      "750/750 [==============================] - 3s 4ms/step - loss: 0.0637 - accuracy: 0.9812 - val_loss: 0.1007 - val_accuracy: 0.9682\n",
      "Epoch 6/25\n",
      "750/750 [==============================] - 3s 4ms/step - loss: 0.0513 - accuracy: 0.9850 - val_loss: 0.0961 - val_accuracy: 0.9724\n",
      "Epoch 7/25\n",
      "750/750 [==============================] - 3s 3ms/step - loss: 0.0412 - accuracy: 0.9885 - val_loss: 0.0912 - val_accuracy: 0.9718\n",
      "Epoch 8/25\n",
      "750/750 [==============================] - 3s 4ms/step - loss: 0.0333 - accuracy: 0.9907 - val_loss: 0.0818 - val_accuracy: 0.9758\n",
      "Epoch 9/25\n",
      "750/750 [==============================] - 3s 4ms/step - loss: 0.0259 - accuracy: 0.9931 - val_loss: 0.0857 - val_accuracy: 0.9750\n",
      "Epoch 10/25\n",
      "750/750 [==============================] - 3s 4ms/step - loss: 0.0220 - accuracy: 0.9943 - val_loss: 0.0878 - val_accuracy: 0.9748\n",
      "Epoch 11/25\n",
      "750/750 [==============================] - 3s 4ms/step - loss: 0.0180 - accuracy: 0.9953 - val_loss: 0.0867 - val_accuracy: 0.9747\n",
      "Epoch 12/25\n",
      "750/750 [==============================] - 3s 4ms/step - loss: 0.0143 - accuracy: 0.9965 - val_loss: 0.0903 - val_accuracy: 0.9743\n",
      "Epoch 13/25\n",
      "750/750 [==============================] - 3s 4ms/step - loss: 0.0125 - accuracy: 0.9968 - val_loss: 0.0974 - val_accuracy: 0.9746\n",
      "Epoch 14/25\n",
      "750/750 [==============================] - 3s 3ms/step - loss: 0.0106 - accuracy: 0.9975 - val_loss: 0.0979 - val_accuracy: 0.9745\n",
      "Epoch 15/25\n",
      "750/750 [==============================] - 3s 4ms/step - loss: 0.0076 - accuracy: 0.9985 - val_loss: 0.0959 - val_accuracy: 0.9760\n",
      "Epoch 16/25\n",
      "750/750 [==============================] - 3s 4ms/step - loss: 0.0077 - accuracy: 0.9981 - val_loss: 0.0970 - val_accuracy: 0.9752\n",
      "Epoch 17/25\n",
      "750/750 [==============================] - 3s 4ms/step - loss: 0.0054 - accuracy: 0.9991 - val_loss: 0.1049 - val_accuracy: 0.9728\n",
      "Epoch 18/25\n",
      "750/750 [==============================] - 3s 4ms/step - loss: 0.0083 - accuracy: 0.9981 - val_loss: 0.0965 - val_accuracy: 0.9770\n",
      "Epoch 19/25\n",
      "750/750 [==============================] - 3s 4ms/step - loss: 0.0044 - accuracy: 0.9990 - val_loss: 0.1054 - val_accuracy: 0.9758\n",
      "Epoch 20/25\n",
      "750/750 [==============================] - 3s 4ms/step - loss: 0.0038 - accuracy: 0.9994 - val_loss: 0.1079 - val_accuracy: 0.9756\n",
      "Epoch 21/25\n",
      "750/750 [==============================] - 3s 4ms/step - loss: 0.0054 - accuracy: 0.9986 - val_loss: 0.1247 - val_accuracy: 0.9746\n",
      "Epoch 22/25\n",
      "750/750 [==============================] - 3s 4ms/step - loss: 0.0069 - accuracy: 0.9980 - val_loss: 0.1059 - val_accuracy: 0.9772\n",
      "Epoch 23/25\n",
      "750/750 [==============================] - 3s 4ms/step - loss: 0.0032 - accuracy: 0.9993 - val_loss: 0.1032 - val_accuracy: 0.9774\n",
      "Epoch 24/25\n",
      "750/750 [==============================] - 3s 4ms/step - loss: 0.0011 - accuracy: 0.9999 - val_loss: 0.1013 - val_accuracy: 0.9775\n",
      "Epoch 25/25\n",
      "750/750 [==============================] - 3s 4ms/step - loss: 5.7438e-04 - accuracy: 1.0000 - val_loss: 0.1032 - val_accuracy: 0.9784\n"
     ]
    },
    {
     "data": {
      "text/plain": [
       "<keras.src.callbacks.History at 0x7fc7c0155c60>"
      ]
     },
     "execution_count": 8,
     "metadata": {},
     "output_type": "execute_result"
    }
   ],
   "source": [
    "model.fit(train_images, train_labels, epochs=25, batch_size=64, validation_split=0.2)"
   ]
  },
  {
   "cell_type": "markdown",
   "id": "c18ca672",
   "metadata": {
    "papermill": {
     "duration": 0.120627,
     "end_time": "2023-11-20T06:16:52.537762",
     "exception": false,
     "start_time": "2023-11-20T06:16:52.417135",
     "status": "completed"
    },
    "tags": []
   },
   "source": [
    "## Evaluating model"
   ]
  },
  {
   "cell_type": "code",
   "execution_count": 9,
   "id": "f2f7d792",
   "metadata": {
    "execution": {
     "iopub.execute_input": "2023-11-20T06:16:52.783644Z",
     "iopub.status.busy": "2023-11-20T06:16:52.782930Z",
     "iopub.status.idle": "2023-11-20T06:16:53.595126Z",
     "shell.execute_reply": "2023-11-20T06:16:53.593909Z"
    },
    "papermill": {
     "duration": 0.937675,
     "end_time": "2023-11-20T06:16:53.597498",
     "exception": false,
     "start_time": "2023-11-20T06:16:52.659823",
     "status": "completed"
    },
    "tags": []
   },
   "outputs": [
    {
     "name": "stdout",
     "output_type": "stream",
     "text": [
      "313/313 [==============================] - 1s 2ms/step - loss: 0.0847 - accuracy: 0.9811\n",
      "Test accuracy: 0.9811000227928162\n"
     ]
    }
   ],
   "source": [
    "test_loss, test_acc = model.evaluate(test_images, test_labels)\n",
    "print(f'Test accuracy: {test_acc}')\n"
   ]
  },
  {
   "cell_type": "markdown",
   "id": "15db96a5",
   "metadata": {
    "papermill": {
     "duration": 0.122744,
     "end_time": "2023-11-20T06:16:53.844711",
     "exception": false,
     "start_time": "2023-11-20T06:16:53.721967",
     "status": "completed"
    },
    "tags": []
   },
   "source": [
    "## Predicting in test data"
   ]
  },
  {
   "cell_type": "code",
   "execution_count": 10,
   "id": "e47bc509",
   "metadata": {
    "execution": {
     "iopub.execute_input": "2023-11-20T06:16:54.093479Z",
     "iopub.status.busy": "2023-11-20T06:16:54.093084Z",
     "iopub.status.idle": "2023-11-20T06:16:54.248226Z",
     "shell.execute_reply": "2023-11-20T06:16:54.247184Z"
    },
    "papermill": {
     "duration": 0.281995,
     "end_time": "2023-11-20T06:16:54.250535",
     "exception": false,
     "start_time": "2023-11-20T06:16:53.968540",
     "status": "completed"
    },
    "tags": []
   },
   "outputs": [
    {
     "name": "stdout",
     "output_type": "stream",
     "text": [
      "1/1 [==============================] - 0s 93ms/step\n",
      "[[2.9727024e-10 4.9812245e-11 4.5007192e-11 1.1132560e-06 3.7325164e-18\n",
      "  8.3181353e-14 7.3143513e-19 9.9999893e-01 2.5867120e-10 6.2886396e-10]\n",
      " [6.6698952e-11 6.8693393e-09 1.0000000e+00 1.6181126e-11 9.1276366e-24\n",
      "  5.2431272e-14 5.4686585e-12 1.9996696e-22 1.4933212e-08 5.1429855e-16]\n",
      " [1.9105142e-09 9.9997699e-01 4.1530107e-06 2.3314091e-09 1.0465834e-06\n",
      "  3.3686689e-11 3.5862357e-08 1.3372047e-06 1.6506252e-05 6.4784123e-10]\n",
      " [9.9999976e-01 2.5595013e-13 1.6888808e-07 2.4702384e-17 9.2874722e-18\n",
      "  1.4123267e-13 1.2585838e-09 7.8986801e-08 8.5782067e-19 7.4465889e-13]\n",
      " [2.7037579e-13 4.7642849e-18 4.6165463e-12 1.4470365e-15 9.9999940e-01\n",
      "  1.1498814e-16 9.4960313e-13 7.8439504e-09 2.4485637e-11 5.3777990e-07]]\n"
     ]
    }
   ],
   "source": [
    "predictions = model.predict(test_images[:5])\n",
    "print(predictions)"
   ]
  },
  {
   "cell_type": "code",
   "execution_count": 11,
   "id": "9946a728",
   "metadata": {
    "execution": {
     "iopub.execute_input": "2023-11-20T06:16:54.502442Z",
     "iopub.status.busy": "2023-11-20T06:16:54.502021Z",
     "iopub.status.idle": "2023-11-20T06:16:54.508507Z",
     "shell.execute_reply": "2023-11-20T06:16:54.507251Z"
    },
    "papermill": {
     "duration": 0.136567,
     "end_time": "2023-11-20T06:16:54.511502",
     "exception": false,
     "start_time": "2023-11-20T06:16:54.374935",
     "status": "completed"
    },
    "tags": []
   },
   "outputs": [
    {
     "name": "stdout",
     "output_type": "stream",
     "text": [
      "[7 2 1 0 4]\n"
     ]
    }
   ],
   "source": [
    "predicted_classes = np.argmax(predictions, axis=1)\n",
    "print(predicted_classes)"
   ]
  },
  {
   "cell_type": "markdown",
   "id": "ae03c7f0",
   "metadata": {
    "papermill": {
     "duration": 0.122387,
     "end_time": "2023-11-20T06:16:54.756246",
     "exception": false,
     "start_time": "2023-11-20T06:16:54.633859",
     "status": "completed"
    },
    "tags": []
   },
   "source": [
    "## Fine-tuning"
   ]
  },
  {
   "cell_type": "code",
   "execution_count": 12,
   "id": "399f788a",
   "metadata": {
    "execution": {
     "iopub.execute_input": "2023-11-20T06:16:55.008362Z",
     "iopub.status.busy": "2023-11-20T06:16:55.007989Z",
     "iopub.status.idle": "2023-11-20T06:29:45.292707Z",
     "shell.execute_reply": "2023-11-20T06:29:45.291363Z"
    },
    "papermill": {
     "duration": 770.415802,
     "end_time": "2023-11-20T06:29:45.295145",
     "exception": false,
     "start_time": "2023-11-20T06:16:54.879343",
     "status": "completed"
    },
    "tags": []
   },
   "outputs": [
    {
     "name": "stdout",
     "output_type": "stream",
     "text": [
      "Epoch 1/25\n",
      "750/750 [==============================] - 32s 42ms/step - loss: 0.2439 - accuracy: 0.9254 - val_loss: 0.0652 - val_accuracy: 0.9813\n",
      "Epoch 2/25\n",
      "750/750 [==============================] - 31s 41ms/step - loss: 0.0762 - accuracy: 0.9771 - val_loss: 0.0564 - val_accuracy: 0.9828\n",
      "Epoch 3/25\n",
      "750/750 [==============================] - 31s 41ms/step - loss: 0.0539 - accuracy: 0.9839 - val_loss: 0.0548 - val_accuracy: 0.9831\n",
      "Epoch 4/25\n",
      "750/750 [==============================] - 31s 41ms/step - loss: 0.0397 - accuracy: 0.9874 - val_loss: 0.0424 - val_accuracy: 0.9873\n",
      "Epoch 5/25\n",
      "750/750 [==============================] - 30s 41ms/step - loss: 0.0305 - accuracy: 0.9909 - val_loss: 0.0434 - val_accuracy: 0.9874\n",
      "Epoch 6/25\n",
      "750/750 [==============================] - 30s 40ms/step - loss: 0.0240 - accuracy: 0.9923 - val_loss: 0.0452 - val_accuracy: 0.9868\n",
      "Epoch 7/25\n",
      "750/750 [==============================] - 31s 41ms/step - loss: 0.0191 - accuracy: 0.9941 - val_loss: 0.0459 - val_accuracy: 0.9863\n",
      "Epoch 8/25\n",
      "750/750 [==============================] - 30s 41ms/step - loss: 0.0190 - accuracy: 0.9941 - val_loss: 0.0533 - val_accuracy: 0.9875\n",
      "Epoch 9/25\n",
      "750/750 [==============================] - 30s 41ms/step - loss: 0.0164 - accuracy: 0.9950 - val_loss: 0.0470 - val_accuracy: 0.9879\n",
      "Epoch 10/25\n",
      "750/750 [==============================] - 30s 41ms/step - loss: 0.0144 - accuracy: 0.9956 - val_loss: 0.0475 - val_accuracy: 0.9880\n",
      "Epoch 11/25\n",
      "750/750 [==============================] - 30s 41ms/step - loss: 0.0125 - accuracy: 0.9959 - val_loss: 0.0501 - val_accuracy: 0.9889\n",
      "Epoch 12/25\n",
      "750/750 [==============================] - 30s 40ms/step - loss: 0.0114 - accuracy: 0.9962 - val_loss: 0.0538 - val_accuracy: 0.9887\n",
      "Epoch 13/25\n",
      "750/750 [==============================] - 31s 41ms/step - loss: 0.0102 - accuracy: 0.9967 - val_loss: 0.0538 - val_accuracy: 0.9884\n",
      "Epoch 14/25\n",
      "750/750 [==============================] - 31s 41ms/step - loss: 0.0106 - accuracy: 0.9965 - val_loss: 0.0596 - val_accuracy: 0.9870\n",
      "Epoch 15/25\n",
      "750/750 [==============================] - 30s 41ms/step - loss: 0.0092 - accuracy: 0.9971 - val_loss: 0.0610 - val_accuracy: 0.9886\n",
      "Epoch 16/25\n",
      "750/750 [==============================] - 31s 41ms/step - loss: 0.0101 - accuracy: 0.9969 - val_loss: 0.0637 - val_accuracy: 0.9874\n",
      "Epoch 17/25\n",
      "750/750 [==============================] - 31s 41ms/step - loss: 0.0066 - accuracy: 0.9979 - val_loss: 0.0674 - val_accuracy: 0.9870\n",
      "Epoch 18/25\n",
      "750/750 [==============================] - 31s 41ms/step - loss: 0.0075 - accuracy: 0.9979 - val_loss: 0.0601 - val_accuracy: 0.9889\n",
      "Epoch 19/25\n",
      "750/750 [==============================] - 31s 41ms/step - loss: 0.0068 - accuracy: 0.9977 - val_loss: 0.0737 - val_accuracy: 0.9875\n",
      "Epoch 20/25\n",
      "750/750 [==============================] - 31s 41ms/step - loss: 0.0069 - accuracy: 0.9979 - val_loss: 0.0630 - val_accuracy: 0.9888\n",
      "Epoch 21/25\n",
      "750/750 [==============================] - 31s 41ms/step - loss: 0.0062 - accuracy: 0.9979 - val_loss: 0.0684 - val_accuracy: 0.9893\n",
      "Epoch 22/25\n",
      "750/750 [==============================] - 31s 41ms/step - loss: 0.0068 - accuracy: 0.9976 - val_loss: 0.0686 - val_accuracy: 0.9884\n",
      "Epoch 23/25\n",
      "750/750 [==============================] - 31s 41ms/step - loss: 0.0062 - accuracy: 0.9982 - val_loss: 0.0618 - val_accuracy: 0.9893\n",
      "Epoch 24/25\n",
      "750/750 [==============================] - 31s 41ms/step - loss: 0.0060 - accuracy: 0.9982 - val_loss: 0.0760 - val_accuracy: 0.9874\n",
      "Epoch 25/25\n",
      "750/750 [==============================] - 31s 41ms/step - loss: 0.0066 - accuracy: 0.9981 - val_loss: 0.0677 - val_accuracy: 0.9892\n",
      "313/313 [==============================] - 2s 7ms/step - loss: 0.0589 - accuracy: 0.9891\n",
      "Fine-Tuned Model Test Accuracy: 0.9890999794006348\n"
     ]
    }
   ],
   "source": [
    "fine_tuned_model = models.Sequential([\n",
    "    layers.Reshape((28, 28, 1), input_shape=(784,)),\n",
    "    layers.Conv2D(64, (3, 3), activation='relu'),\n",
    "    layers.MaxPooling2D((2, 2)),\n",
    "    layers.Flatten(),\n",
    "    layers.Dense(256, activation='relu'),\n",
    "    layers.Dropout(0.3),\n",
    "    layers.Dense(128, activation='relu'),\n",
    "    layers.Dropout(0.3),\n",
    "    layers.Dense(10, activation='softmax')\n",
    "])\n",
    "\n",
    "# Compile the fine-tuned model\n",
    "fine_tuned_model.compile(optimizer='adam',\n",
    "                         loss='sparse_categorical_crossentropy',\n",
    "                         metrics=['accuracy'])\n",
    "\n",
    "# Fine-tune the model\n",
    "fine_tuned_model.fit(train_images, train_labels, epochs=25, batch_size=64, validation_split=0.2)\n",
    "\n",
    "# Evaluate the fine-tuned model\n",
    "fine_tuned_test_loss, fine_tuned_test_acc = fine_tuned_model.evaluate(test_images, test_labels)\n",
    "print(f'Fine-Tuned Model Test Accuracy: {fine_tuned_test_acc}')"
   ]
  },
  {
   "cell_type": "markdown",
   "id": "f3ac9a7c",
   "metadata": {
    "papermill": {
     "duration": 1.110855,
     "end_time": "2023-11-20T06:29:47.453482",
     "exception": false,
     "start_time": "2023-11-20T06:29:46.342627",
     "status": "completed"
    },
    "tags": []
   },
   "source": [
    "## Classification report"
   ]
  },
  {
   "cell_type": "code",
   "execution_count": 13,
   "id": "2c27c7da",
   "metadata": {
    "execution": {
     "iopub.execute_input": "2023-11-20T06:29:49.537081Z",
     "iopub.status.busy": "2023-11-20T06:29:49.536009Z",
     "iopub.status.idle": "2023-11-20T06:29:50.327434Z",
     "shell.execute_reply": "2023-11-20T06:29:50.325953Z"
    },
    "papermill": {
     "duration": 1.839063,
     "end_time": "2023-11-20T06:29:50.330163",
     "exception": false,
     "start_time": "2023-11-20T06:29:48.491100",
     "status": "completed"
    },
    "tags": []
   },
   "outputs": [
    {
     "name": "stdout",
     "output_type": "stream",
     "text": [
      "313/313 [==============================] - 0s 1ms/step\n",
      "Base Model Classification Report:\n",
      "               precision    recall  f1-score   support\n",
      "\n",
      "           0       0.98      0.99      0.98       980\n",
      "           1       0.99      0.99      0.99      1135\n",
      "           2       0.98      0.98      0.98      1032\n",
      "           3       0.98      0.99      0.98      1010\n",
      "           4       0.98      0.98      0.98       982\n",
      "           5       0.98      0.97      0.98       892\n",
      "           6       0.98      0.98      0.98       958\n",
      "           7       0.98      0.98      0.98      1028\n",
      "           8       0.98      0.97      0.98       974\n",
      "           9       0.98      0.98      0.98      1009\n",
      "\n",
      "    accuracy                           0.98     10000\n",
      "   macro avg       0.98      0.98      0.98     10000\n",
      "weighted avg       0.98      0.98      0.98     10000\n",
      "\n"
     ]
    }
   ],
   "source": [
    "predictions = model.predict(test_images)\n",
    "predicted_classes = np.argmax(predictions, axis=1)\n",
    "\n",
    "report = classification_report(test_labels, predicted_classes)\n",
    "print(\"Base Model Classification Report:\\n\", report)"
   ]
  },
  {
   "cell_type": "code",
   "execution_count": 14,
   "id": "dfea3c27",
   "metadata": {
    "execution": {
     "iopub.execute_input": "2023-11-20T06:29:52.481568Z",
     "iopub.status.busy": "2023-11-20T06:29:52.480965Z",
     "iopub.status.idle": "2023-11-20T06:29:54.910911Z",
     "shell.execute_reply": "2023-11-20T06:29:54.909393Z"
    },
    "papermill": {
     "duration": 3.46848,
     "end_time": "2023-11-20T06:29:54.913503",
     "exception": false,
     "start_time": "2023-11-20T06:29:51.445023",
     "status": "completed"
    },
    "tags": []
   },
   "outputs": [
    {
     "name": "stdout",
     "output_type": "stream",
     "text": [
      "313/313 [==============================] - 2s 7ms/step\n",
      "Fine-Tuned Model Classification Report:\n",
      "               precision    recall  f1-score   support\n",
      "\n",
      "           0       0.99      1.00      0.99       980\n",
      "           1       0.99      1.00      1.00      1135\n",
      "           2       0.98      0.99      0.99      1032\n",
      "           3       0.99      0.99      0.99      1010\n",
      "           4       0.99      0.99      0.99       982\n",
      "           5       0.99      0.99      0.99       892\n",
      "           6       0.99      0.99      0.99       958\n",
      "           7       0.99      0.99      0.99      1028\n",
      "           8       0.99      0.98      0.98       974\n",
      "           9       0.99      0.98      0.98      1009\n",
      "\n",
      "    accuracy                           0.99     10000\n",
      "   macro avg       0.99      0.99      0.99     10000\n",
      "weighted avg       0.99      0.99      0.99     10000\n",
      "\n"
     ]
    }
   ],
   "source": [
    "fine_tuned_predictions = fine_tuned_model.predict(test_images)\n",
    "fine_tuned_predicted_classes = np.argmax(fine_tuned_predictions, axis=1)\n",
    "\n",
    "fine_tuned_report = classification_report(test_labels, fine_tuned_predicted_classes)\n",
    "print(\"Fine-Tuned Model Classification Report:\\n\", fine_tuned_report)"
   ]
  },
  {
   "cell_type": "markdown",
   "id": "ff6a596a",
   "metadata": {
    "papermill": {
     "duration": 1.031097,
     "end_time": "2023-11-20T06:29:57.067009",
     "exception": false,
     "start_time": "2023-11-20T06:29:56.035912",
     "status": "completed"
    },
    "tags": []
   },
   "source": [
    "## Base Model Classification Report:\n",
    "Accuracy: 98%\n",
    "Precision: High precision for all classes, indicating a low false-positive rate.\n",
    "Recall: High recall for all classes, indicating a low false-negative rate.\n",
    "F1-Score: High F1-score for all classes, considering both precision and recall.\n",
    "\n",
    "## Fine-Tuned Model Classification Report:\n",
    "Accuracy: 99% (slightly improved compared to the base model).\n",
    "Precision: Maintains high precision for all classes.\n",
    "Recall: High recall for all classes.\n",
    "F1-Score: High F1-score for all classes.\n",
    "\n",
    "## Analysis:\n",
    "The fine-tuned model shows a slight improvement in accuracy compared to the base model.\n",
    "Both models exhibit high precision, recall, and F1-score for all classes, indicating strong performance.\n",
    "Class 8 has a slightly lower recall in the fine-tuned model, suggesting that it might be slightly more challenging for the model to correctly classify instances of this class.\n",
    "\n",
    "## Conclusion:\n",
    "The fine-tuned model appears to perform slightly better than the base model, with a small increase in accuracy.\n",
    "The high precision, recall, and F1-score for all classes suggest that both models are effective in classifying digits on the MNIST dataset."
   ]
  }
 ],
 "metadata": {
  "kaggle": {
   "accelerator": "none",
   "dataSources": [],
   "dockerImageVersionId": 30579,
   "isGpuEnabled": false,
   "isInternetEnabled": true,
   "language": "python",
   "sourceType": "notebook"
  },
  "kernelspec": {
   "display_name": "Python 3",
   "language": "python",
   "name": "python3"
  },
  "language_info": {
   "codemirror_mode": {
    "name": "ipython",
    "version": 3
   },
   "file_extension": ".py",
   "mimetype": "text/x-python",
   "name": "python",
   "nbconvert_exporter": "python",
   "pygments_lexer": "ipython3",
   "version": "3.10.12"
  },
  "papermill": {
   "default_parameters": {},
   "duration": 884.353064,
   "end_time": "2023-11-20T06:30:01.001261",
   "environment_variables": {},
   "exception": null,
   "input_path": "__notebook__.ipynb",
   "output_path": "__notebook__.ipynb",
   "parameters": {},
   "start_time": "2023-11-20T06:15:16.648197",
   "version": "2.4.0"
  }
 },
 "nbformat": 4,
 "nbformat_minor": 5
}
